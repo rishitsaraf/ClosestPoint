{
 "cells": [
  {
   "cell_type": "code",
   "execution_count": 33,
   "metadata": {},
   "outputs": [
    {
     "name": "stdout",
     "output_type": "stream",
     "text": [
      "Enter n - 5\n",
      "Enter a point - 2 3\n",
      "Enter a point - 1 1\n",
      "Enter a point - 4 5\n",
      "Enter a point - 3 2\n",
      "Enter a point - 5 0\n",
      "Enter the point to compare with - 3 5\n",
      "Point 3 is closest to the label\n"
     ]
    }
   ],
   "source": [
    "import math\n",
    "n = int(input(\"Enter n - \"))\n",
    "x_cords = []\n",
    "y_cords = []\n",
    "for i in range(0,n):\n",
    "    x, y = input(\"Enter a point - \").split()\n",
    "    x_cords.append(int(x))\n",
    "    y_cords.append(int(y))\n",
    "xn,yn = input(\"Enter the point to compare with - \").split()\n",
    "xn = int(xn)\n",
    "yn = int(yn)\n",
    "\n",
    "diffs_x = []\n",
    "diffs_y = []\n",
    "\n",
    "for x in x_cords:\n",
    "    diffx = abs(x-xn)\n",
    "    diffx = diffx**2\n",
    "    diffs_x.append(diffx)\n",
    "    \n",
    "for y in y_cords:\n",
    "    diffy = abs(y-yn)\n",
    "    diffy = diffy**2\n",
    "    diffs_y.append(diffy)\n",
    "\n",
    "dists = []\n",
    "for i in range(0,n):\n",
    "    dists.append(math.sqrt((diffs_y[i]+diffs_x[i])))\n",
    "min_dist = min(dists)\n",
    "index = dists.index(min_dist,0,n)\n",
    "closest_point = index+1\n",
    "print(\"Point \"+str(closest_point)+\" is closest to the label\")\n"
   ]
  }
 ],
 "metadata": {
  "kernelspec": {
   "display_name": "Python 3",
   "language": "python",
   "name": "python3"
  },
  "language_info": {
   "codemirror_mode": {
    "name": "ipython",
    "version": 3
   },
   "file_extension": ".py",
   "mimetype": "text/x-python",
   "name": "python",
   "nbconvert_exporter": "python",
   "pygments_lexer": "ipython3",
   "version": "3.8.5"
  }
 },
 "nbformat": 4,
 "nbformat_minor": 4
}
